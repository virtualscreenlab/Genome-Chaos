{
 "cells": [
  {
   "cell_type": "code",
   "execution_count": 1,
   "id": "afb3119b-2f00-4a8b-a503-6ed7cc84692e",
   "metadata": {},
   "outputs": [
    {
     "name": "stdout",
     "output_type": "stream",
     "text": [
      "Original protein sequence:\n",
      "MAHAGRTGYDNREIVMKYIHYKLSQRGYEWDAGDVGAAPPGAAPAPGIFSSQPGHTPHPAASRDPVARTSPLQTPAAPGAAAGPALSPVPPVVHLTLRQAGDDFSRRYRRDFAEMSSQLHLTPFTARGRFATVVEELFRDGVNWGRIVAFFEFGGVMCVESVNREMSPLVDNIALWMTEYLNRHLHTWIQDNGGWDAFVELYGPSMRPLFDFSWLSLKTLLSLALVGACITLGAYLGHK\n",
      "\n",
      "Reverse-translated DNA:\n",
      "ATGGCCCACGCCGGCCGCACCGGCTACGACAACCGCGAGATCGTGATGAAGTACATCCACTACAAGCTGAGCCAGCGCGGCTACGAGTGGGACGCCGGCGACGTGGGCGCCGCCCCCCCCGGCGCCGCCCCCGCCCCCGGCATCTTCAGCAGCCAGCCCGGCCACACCCCCCACCCCGCCGCCAGCCGCGACCCCGTGGCCCGCACCAGCCCCCTGCAGACCCCCGCCGCCCCCGGCGCCGCCGCCGGCCCCGCCCTGAGCCCCGTGCCCCCCGTGGTGCACCTGACCCTGCGCCAGGCCGGCGACGACTTCAGCCGCCGCTACCGCCGCGACTTCGCCGAGATGAGCAGCCAGCTGCACCTGACCCCCTTCACCGCCCGCGGCCGCTTCGCCACCGTGGTGGAGGAGCTGTTCCGCGACGGCGTGAACTGGGGCCGCATCGTGGCCTTCTTCGAGTTCGGCGGCGTGATGTGCGTGGAGAGCGTGAACCGCGAGATGAGCCCCCTGGTGGACAACATCGCCCTGTGGATGACCGAGTACCTGAACCGCCACCTGCACACCTGGATCCAGGACAACGGCGGCTGGGACGCCTTCGTGGAGCTGTACGGCCCCAGCATGCGCCCCCTGTTCGACTTCAGCTGGCTGAGCCTGAAGACCCTGCTGAGCCTGGCCCTGGTGGGCGCCTGCATCACCCTGGGCGCCTACCTGGGCCACAAG\n",
      "\n",
      "Translated protein from DNA:\n",
      "MAHAGRTGYDNREIVMKYIHYKLSQRGYEWDAGDVGAAPPGAAPAPGIFSSQPGHTPHPAASRDPVARTSPLQTPAAPGAAAGPALSPVPPVVHLTLRQAGDDFSRRYRRDFAEMSSQLHLTPFTARGRFATVVEELFRDGVNWGRIVAFFEFGGVMCVESVNREMSPLVDNIALWMTEYLNRHLHTWIQDNGGWDAFVELYGPSMRPLFDFSWLSLKTLLSLALVGACITLGAYLGHK\n",
      "\n",
      "✅ The protein sequence matches after translation.\n"
     ]
    }
   ],
   "source": [
    "# Define codon table with common human codons\n",
    "codon_table = {\n",
    "    'A': 'GCC', 'R': 'CGC', 'N': 'AAC', 'D': 'GAC',\n",
    "    'C': 'TGC', 'Q': 'CAG', 'E': 'GAG', 'G': 'GGC',\n",
    "    'H': 'CAC', 'I': 'ATC', 'L': 'CTG', 'K': 'AAG',\n",
    "    'M': 'ATG', 'F': 'TTC', 'P': 'CCC', 'S': 'AGC',\n",
    "    'T': 'ACC', 'W': 'TGG', 'Y': 'TAC', 'V': 'GTG',\n",
    "    '*': 'TAA'  # stop codon\n",
    "}\n",
    "\n",
    "# Reverse codon table (1st match only)\n",
    "reverse_codon_table = {\n",
    "    'GCC': 'A', 'CGC': 'R', 'AAC': 'N', 'GAC': 'D',\n",
    "    'TGC': 'C', 'CAG': 'Q', 'GAG': 'E', 'GGC': 'G',\n",
    "    'CAC': 'H', 'ATC': 'I', 'CTG': 'L', 'AAG': 'K',\n",
    "    'ATG': 'M', 'TTC': 'F', 'CCC': 'P', 'AGC': 'S',\n",
    "    'ACC': 'T', 'TGG': 'W', 'TAC': 'Y', 'GTG': 'V',\n",
    "    'TAA': '*'\n",
    "}\n",
    "\n",
    "# Your protein sequence\n",
    "protein_sequence = (\n",
    "    \"MAHAGRTGYDNREIVMKYIHYKLSQRGYEWDAGDVGAAPPGAAPAPGIFSSQPGHTPHPAASRDPVARTSPLQTPAAP\"\n",
    "    \"GAAAGPALSPVPPVVHLTLRQAGDDFSRRYRRDFAEMSSQLHLTPFTARGRFATVVEELFRDGVNWGRIVAFFEFGGVM\"\n",
    "    \"CVESVNREMSPLVDNIALWMTEYLNRHLHTWIQDNGGWDAFVELYGPSMRPLFDFSWLSLKTLLSLALVGACITLGAYLGHK\"\n",
    ")\n",
    "\n",
    "# Reverse translation\n",
    "def reverse_translate(protein):\n",
    "    return ''.join(codon_table[aa] for aa in protein)\n",
    "\n",
    "# Forward translation\n",
    "def translate_dna(dna_seq):\n",
    "    protein = ''\n",
    "    for i in range(0, len(dna_seq), 3):\n",
    "        codon = dna_seq[i:i+3]\n",
    "        if len(codon) == 3:\n",
    "            protein += reverse_codon_table.get(codon, 'X')  # 'X' for unknown codons\n",
    "    return protein\n",
    "\n",
    "# Run\n",
    "dna = reverse_translate(protein_sequence)\n",
    "translated_protein = translate_dna(dna)\n",
    "\n",
    "# Output\n",
    "print(\"Original protein sequence:\")\n",
    "print(protein_sequence)\n",
    "print(\"\\nReverse-translated DNA:\")\n",
    "print(dna)\n",
    "print(\"\\nTranslated protein from DNA:\")\n",
    "print(translated_protein)\n",
    "\n",
    "# Check match\n",
    "if translated_protein == protein_sequence:\n",
    "    print(\"\\n✅ The protein sequence matches after translation.\")\n",
    "else:\n",
    "    print(\"\\n❌ Mismatch detected in protein translation.\")\n"
   ]
  },
  {
   "cell_type": "code",
   "execution_count": 2,
   "id": "0fe9d495-b835-4243-8c30-5da67097f610",
   "metadata": {},
   "outputs": [
    {
     "name": "stdout",
     "output_type": "stream",
     "text": [
      "\n",
      "Mutated Sequence:\n",
      "ATGGCCCACGCCGGCCGCACCGGCTACGACAACCGCGAGATCGTGATGAAGTACATCCACTACAAGCTGAGCCAGCGCGGCTACGAGTGGGACGCCGGCGACGTGGGCGCCGCCCCCCCCGGCGCCGCCCCCGCCCCCGGCATCTTCAGCAGCCAGCCCGGCCACACCCCCCACCCCGCCGCCAGCCGCGACCCCGTGGCCCGCACCAGCCCCCTGCAGACCCCCGCCGCCCCCGGCGCCGCCGCCGGCCCCGCCCTGAGCCCCGTGCCCCCCGTGGTGCACCTGACCCTGCGCCAGGCCGGCGACGACTTCAGCCGCCGCTACCGCCGCGACTTCGCCGAGATGAGCAGCCAGCTGCACCTGACCCCCTTCACCGCCCGCGGCCGCTTCGCCACCGTGGTGGAGGAGCTGTTCCGCGACGGCGTGAACTGGGGCCGCATCGTGGCCTTCTTCGAGTTCGGCGGCGTGATGTGCGTGGAGAGCGTGAACCGCGAGATGAGCCCCCTGGTGGACAACATCGCCCTGTGGATGACCGAGTACCTGAACCGCCACCTGCACACCTGGATCCAGGACAACGGCGGCTGGGACGCCTTCGTGGAGCTGTACGGCCCCAGCATGCGCCCCCTGTTCGACTTCAGCTGGCTGAGCCTGAAGACCCTGCTGAGCCTGGCCCTGGTGGGCGCCTGCATCACCCTGGGCGCCTACCTGGGCCCCAAG\n",
      "Reference Sequence:\n",
      "ATGGCCCACGCCGGCCGCACCGGCTACGACAACCGCGAGATCGTGATGAAGTACATCCACTACAAGCTGAGCCAGCGCGGCTACGAGTGGGACGCCGGCGACGTGGGCGCCGCCCCCCCCGGCGCCGCCCCCGCCCCCGGCATCTTCAGCAGCCAGCCCGGCCACACCCCCCACCCCGCCGCCAGCCGCGACCCCGTGGCCCGCACCAGCCCCCTGCAGACCCCCGCCGCCCCCGGCGCCGCCGCCGGCCCCGCCCTGAGCCCCGTGCCCCCCGTGGTGCACCTGACCCTGCGCCAGGCCGGCGACGACTTCAGCCGCCGCTACCGCCGCGACTTCGCCGAGATGAGCAGCCAGCTGCACCTGACCCCCTTCACCGCCCGCGGCCGCTTCGCCACCGTGGTGGAGGAGCTGTTCCGCGACGGCGTGAACTGGGGCCGCATCGTGGCCTTCTTCGAGTTCGGCGGCGTGATGTGCGTGGAGAGCGTGAACCGCGAGATGAGCCCCCTGGTGGACAACATCGCCCTGTGGATGACCGAGTACCTGAACCGCCACCTGCACACCTGGATCCAGGACAACGGCGGCTGGGACGCCTTCGTGGAGCTGTACGGCCCCAGCATGCGCCCCCTGTTCGACTTCAGCTGGCTGAGCCTGAAGACCCTGCTGAGCCTGGCCCTGGTGGGCGCCTGCATCACCCTGGGCGCCTACCTGGGCCACAAG\n",
      "Number of divisions needed: 41\n",
      "Point Mutation occurred at position 713: A -> C\n"
     ]
    }
   ],
   "source": [
    "import random\n",
    "\n",
    "def mutate_gene(gene_sequence, mutation_rate):\n",
    "    mutated_sequence = list(gene_sequence)\n",
    "    \n",
    "    # Iterate through each nucleotide\n",
    "    for i in range(len(mutated_sequence)):\n",
    "        # Check if mutation occurs based on the mutation rate\n",
    "        if random.random() < mutation_rate:\n",
    "            # Mutate the nucleotide (replace it with a random nucleotide)\n",
    "            mutated_sequence[i] = random.choice(\"ACGT\")\n",
    "            return mutated_sequence, i, mutated_sequence[i], True  # Return mutated sequence, position, mutated nucleotide, and True if mutation occurs\n",
    "    \n",
    "    return mutated_sequence, None, None, False  # Return mutated sequence, None, None, and False if no mutation occurs\n",
    "\n",
    "gene_sequence = list(\"ATGGCCCACGCCGGCCGCACCGGCTACGACAACCGCGAGATCGTGATGAAGTACATCCACTACAAGCTGAGCCAGCGCGGCTACGAGTGGGACGCCGGCGACGTGGGCGCCGCCCCCCCCGGCGCCGCCCCCGCCCCCGGCATCTTCAGCAGCCAGCCCGGCCACACCCCCCACCCCGCCGCCAGCCGCGACCCCGTGGCCCGCACCAGCCCCCTGCAGACCCCCGCCGCCCCCGGCGCCGCCGCCGGCCCCGCCCTGAGCCCCGTGCCCCCCGTGGTGCACCTGACCCTGCGCCAGGCCGGCGACGACTTCAGCCGCCGCTACCGCCGCGACTTCGCCGAGATGAGCAGCCAGCTGCACCTGACCCCCTTCACCGCCCGCGGCCGCTTCGCCACCGTGGTGGAGGAGCTGTTCCGCGACGGCGTGAACTGGGGCCGCATCGTGGCCTTCTTCGAGTTCGGCGGCGTGATGTGCGTGGAGAGCGTGAACCGCGAGATGAGCCCCCTGGTGGACAACATCGCCCTGTGGATGACCGAGTACCTGAACCGCCACCTGCACACCTGGATCCAGGACAACGGCGGCTGGGACGCCTTCGTGGAGCTGTACGGCCCCAGCATGCGCCCCCTGTTCGACTTCAGCTGGCTGAGCCTGAAGACCCTGCTGAGCCTGGCCCTGGTGGGCGCCTGCATCACCCTGGGCGCCTACCTGGGCCACAAG\")\n",
    "\n",
    "# Reference sequence (example, replace it with your reference sequence)\n",
    "reference_sequence = list(\"ATGGCCCACGCCGGCCGCACCGGCTACGACAACCGCGAGATCGTGATGAAGTACATCCACTACAAGCTGAGCCAGCGCGGCTACGAGTGGGACGCCGGCGACGTGGGCGCCGCCCCCCCCGGCGCCGCCCCCGCCCCCGGCATCTTCAGCAGCCAGCCCGGCCACACCCCCCACCCCGCCGCCAGCCGCGACCCCGTGGCCCGCACCAGCCCCCTGCAGACCCCCGCCGCCCCCGGCGCCGCCGCCGGCCCCGCCCTGAGCCCCGTGCCCCCCGTGGTGCACCTGACCCTGCGCCAGGCCGGCGACGACTTCAGCCGCCGCTACCGCCGCGACTTCGCCGAGATGAGCAGCCAGCTGCACCTGACCCCCTTCACCGCCCGCGGCCGCTTCGCCACCGTGGTGGAGGAGCTGTTCCGCGACGGCGTGAACTGGGGCCGCATCGTGGCCTTCTTCGAGTTCGGCGGCGTGATGTGCGTGGAGAGCGTGAACCGCGAGATGAGCCCCCTGGTGGACAACATCGCCCTGTGGATGACCGAGTACCTGAACCGCCACCTGCACACCTGGATCCAGGACAACGGCGGCTGGGACGCCTTCGTGGAGCTGTACGGCCCCAGCATGCGCCCCCTGTTCGACTTCAGCTGGCTGAGCCTGAAGACCCTGCTGAGCCTGGCCCTGGTGGGCGCCTGCATCACCCTGGGCGCCTACCTGGGCCACAAG\")\n",
    "\n",
    "# Mutation rate\n",
    "mutation_rate = 1.0e-5\n",
    "\n",
    "# Perform Monte Carlo simulation to estimate the number of divisions\n",
    "num_divisions = 0\n",
    "mutated_sequence = reference_sequence\n",
    "mutation_occurred = False\n",
    "\n",
    "while not mutation_occurred:\n",
    "    num_divisions += 1\n",
    "    mutated_sequence, position, mutated_nucleotide, mutation_occurred = mutate_gene(mutated_sequence, mutation_rate)\n",
    "\n",
    "# Compare with the reference sequence and print point mutations\n",
    "if mutation_occurred:\n",
    "    print(\"\\nMutated Sequence:\")\n",
    "    print(\"\".join(mutated_sequence))\n",
    "    print(\"Reference Sequence:\")\n",
    "    print(\"\".join(reference_sequence))\n",
    "    print(\"Number of divisions needed:\", num_divisions)\n",
    "    print(f\"Point Mutation occurred at position {position + 1}: {gene_sequence[position]} -> {mutated_nucleotide}\")\n",
    "else:\n",
    "    print(\"No mutation occurred.\")\n",
    "    "
   ]
  },
  {
   "cell_type": "code",
   "execution_count": 3,
   "id": "cf65640f-e8af-41a5-a909-1081c16dc083",
   "metadata": {},
   "outputs": [
    {
     "name": "stdout",
     "output_type": "stream",
     "text": [
      "Translated Reference Sequence: MAHAGRTGYDNREIVMKYIHYKLSQRGYEWDAGDVGAAPPGAAPAPGIFSSQPGHTPHPAASRDPVARTSPLQTPAAPGAAAGPALSPVPPVVHLTLRQAGDDFSRRYRRDFAEMSSQLHLTPFTARGRFATVVEELFRDGVNWGRIVAFFEFGGVMCVESVNREMSPLVDNIALWMTEYLNRHLHTWIQDNGGWDAFVELYGPSMRPLFDFSWLSLKTLLSLALVGACITLGAYLGHK\n",
      "Translated Mutated Sequence: MAHAGRTGYDNREIVMKYIHYKLSQRGYEWDAGDVGAAPPGAAPAPGIFSSQPGHTPHPAASRDPVARTSPLQTPAAPGAAAGPALSPVPPVVHLTLRQAGDDFSRRYRRDFAEMSSQLHLTPFTARGRFATVVEELFRDGVNWGRIVAFFEFGGVMCVESVNREMSPLVDNIALWMTEYLNRHLHTWIQDNGGWDAFVELYGPSMRPLFDFSWLSLKTLLSLALVGACITLGAYLGPK\n"
     ]
    }
   ],
   "source": [
    "# Genetic code dictionary\n",
    "genetic_code = {\n",
    "    \"TTT\": \"F\", \"TTC\": \"F\", \"TTA\": \"L\", \"TTG\": \"L\",\n",
    "    \"CTT\": \"L\", \"CTC\": \"L\", \"CTA\": \"L\", \"CTG\": \"L\",\n",
    "    \"ATT\": \"I\", \"ATC\": \"I\", \"ATA\": \"I\", \"ATG\": \"M\",\n",
    "    \"GTT\": \"V\", \"GTC\": \"V\", \"GTA\": \"V\", \"GTG\": \"V\",\n",
    "    \"TCT\": \"S\", \"TCC\": \"S\", \"TCA\": \"S\", \"TCG\": \"S\",\n",
    "    \"CCT\": \"P\", \"CCC\": \"P\", \"CCA\": \"P\", \"CCG\": \"P\",\n",
    "    \"ACT\": \"T\", \"ACC\": \"T\", \"ACA\": \"T\", \"ACG\": \"T\",\n",
    "    \"GCT\": \"A\", \"GCC\": \"A\", \"GCA\": \"A\", \"GCG\": \"A\",\n",
    "    \"TAT\": \"Y\", \"TAC\": \"Y\", \"TAA\": \"*\", \"TAG\": \"*\",\n",
    "    \"CAT\": \"H\", \"CAC\": \"H\", \"CAA\": \"Q\", \"CAG\": \"Q\",\n",
    "    \"AAT\": \"N\", \"AAC\": \"N\", \"AAA\": \"K\", \"AAG\": \"K\",\n",
    "    \"GAT\": \"D\", \"GAC\": \"D\", \"GAA\": \"E\", \"GAG\": \"E\",\n",
    "    \"TGT\": \"C\", \"TGC\": \"C\", \"TGA\": \"*\", \"TGG\": \"W\",\n",
    "    \"CGT\": \"R\", \"CGC\": \"R\", \"CGA\": \"R\", \"CGG\": \"R\",\n",
    "    \"AGT\": \"S\", \"AGC\": \"S\", \"AGA\": \"R\", \"AGG\": \"R\",\n",
    "    \"GGT\": \"G\", \"GGC\": \"G\", \"GGA\": \"G\", \"GGG\": \"G\",\n",
    "}\n",
    "\n",
    "def translate_dna_to_protein(dna_sequence):\n",
    "    \"\"\"\n",
    "    Translate a DNA sequence to a protein sequence using the standard genetic code.\n",
    "    \n",
    "    Args:\n",
    "        dna_sequence (str): DNA sequence to be translated (must be uppercase)\n",
    "    \n",
    "    Returns:\n",
    "        str: Protein sequence\n",
    "    \"\"\"\n",
    "    protein_sequence = []\n",
    "    \n",
    "    # Ensure sequence length is divisible by 3\n",
    "    if len(dna_sequence) % 3 != 0:\n",
    "        print(\"Warning: DNA sequence length is not a multiple of 3. Truncating...\")\n",
    "        dna_sequence = dna_sequence[:-(len(dna_sequence) % 3)]\n",
    "    \n",
    "    for i in range(0, len(dna_sequence), 3):\n",
    "        codon = dna_sequence[i:i+3]\n",
    "        amino_acid = genetic_code.get(codon, 'X')  # 'X' for unknown/invalid codons\n",
    "        protein_sequence.append(amino_acid)\n",
    "    \n",
    "    return ''.join(protein_sequence)\n",
    "reference_sequence = ''.join(reference_sequence)\n",
    "mutated_gene = ''.join(mutated_sequence)\n",
    "\n",
    "\n",
    "\n",
    "# Translate sequences\n",
    "translated_reference = translate_dna_to_protein(reference_sequence.upper())\n",
    "translated_mutated = translate_dna_to_protein(mutated_gene.upper())\n",
    "\n",
    "print(\"Translated Reference Sequence:\", translated_reference)\n",
    "print(\"Translated Mutated Sequence:\", translated_mutated)"
   ]
  },
  {
   "cell_type": "code",
   "execution_count": 4,
   "id": "76ecd1f4-c4ef-45ba-9446-88c49bc17d53",
   "metadata": {},
   "outputs": [
    {
     "name": "stdout",
     "output_type": "stream",
     "text": [
      "Protein Sequence 1: MAHAGRTGYDNREIVMKYIHYKLSQRGYEWDAGDVGAAPPGAAPAPGIFSSQPGHTPHPAASRDPVARTSPLQTPAAPGAAAGPALSPVPPVVHLTLRQAGDDFSRRYRRDFAEMSSQLHLTPFTARGRFATVVEELFRDGVNWGRIVAFFEFGGVMCVESVNREMSPLVDNIALWMTEYLNRHLHTWIQDNGGWDAFVELYGPSMRPLFDFSWLSLKTLLSLALVGACITLGAYLGHK\n",
      "Protein Sequence 2: MAHAGRTGYDNREIVMKYIHYKLSQRGYEWDAGDVGAAPPGAAPAPGIFSSQPGHTPHPAASRDPVARTSPLQTPAAPGAAAGPALSPVPPVVHLTLRQAGDDFSRRYRRDFAEMSSQLHLTPFTARGRFATVVEELFRDGVNWGRIVAFFEFGGVMCVESVNREMSPLVDNIALWMTEYLNRHLHTWIQDNGGWDAFVELYGPSMRPLFDFSWLSLKTLLSLALVGACITLGAYLGPK\n",
      "Similarity Score: 1275.0\n"
     ]
    }
   ],
   "source": [
    "from Bio.Align import substitution_matrices\n",
    "\n",
    "protein_sequence1 = translated_reference\n",
    "protein_sequence2 = translated_mutated\n",
    "\n",
    "# Load the BLOSUM62 matrix\n",
    "matrix = substitution_matrices.load(\"BLOSUM62\")\n",
    "\n",
    "# Initialize the similarity score\n",
    "similarity_score = 0\n",
    "\n",
    "# Ensure sequences are the same length\n",
    "if len(protein_sequence1) != len(protein_sequence2):\n",
    "    raise ValueError(\"Sequences must have the same length.\")\n",
    "\n",
    "# Calculate the score\n",
    "for a, b in zip(protein_sequence1, protein_sequence2):\n",
    "    similarity_score += matrix[a, b]  # Direct lookup (no need for reverse check)\n",
    "\n",
    "print(\"Protein Sequence 1:\", protein_sequence1)\n",
    "print(\"Protein Sequence 2:\", protein_sequence2)\n",
    "print(\"Similarity Score:\", similarity_score)"
   ]
  },
  {
   "cell_type": "code",
   "execution_count": 5,
   "id": "757d3796-de6a-4562-b0c4-5fd99ebfdbe6",
   "metadata": {},
   "outputs": [
    {
     "name": "stdout",
     "output_type": "stream",
     "text": [
      "Number of SNPs: 1\n"
     ]
    }
   ],
   "source": [
    "# Provided protein sequences\n",
    "translated_ref_sequence = translated_reference\n",
    "translated_mut_gene_sequence = translated_mutated\n",
    "# Initialize a counter for SNPs\n",
    "snp_count = 0\n",
    "\n",
    "# Ensure both sequences have the same length\n",
    "if len(translated_ref_sequence) != len(translated_mut_gene_sequence):\n",
    "    raise ValueError(\"Sequences must have the same length for comparison.\")\n",
    "\n",
    "# Compare sequences position by position\n",
    "for ref_aa, mut_aa in zip(translated_ref_sequence, translated_mut_gene_sequence):\n",
    "    if ref_aa != mut_aa:\n",
    "        snp_count += 1\n",
    "\n",
    "print(\"Number of SNPs:\", snp_count)"
   ]
  },
  {
   "cell_type": "code",
   "execution_count": 6,
   "id": "2c8a35f9-bfc3-45bc-9c1e-41c7f7266d49",
   "metadata": {},
   "outputs": [
    {
     "name": "stdout",
     "output_type": "stream",
     "text": [
      "SNP at amino acid position 238: H -> P\n",
      "Protein Sequence 1: MAHAGRTGYDNREIVMKYIHYKLSQRGYEWDAGDVGAAPPGAAPAPGIFSSQPGHTPHPAASRDPVARTSPLQTPAAPGAAAGPALSPVPPVVHLTLRQAGDDFSRRYRRDFAEMSSQLHLTPFTARGRFATVVEELFRDGVNWGRIVAFFEFGGVMCVESVNREMSPLVDNIALWMTEYLNRHLHTWIQDNGGWDAFVELYGPSMR\n",
      "Protein Sequence 2: MAHAWRTGYDNREIVMKYIHYKLSQRGYEWDAGDVGAAPPGAAPAPGIFSSQPGHTPHPAASRDPVARTSPLQTPAAPGAAAGPALSPVPPVVHLTLRQAGDDFSRRYRRDFAEMSSQLHLTPFTARGRFATVVEELFRDGVNWGRIVAFFEFGGVMCVESVNREMSPLVDNIALWMTEYLNRHLHTWIQDNGGWDAFVELYGPSMR\n",
      "Sequence Identity: 99.52%\n"
     ]
    }
   ],
   "source": [
    "# Ensure both sequences have the same length\n",
    "if len(translated_ref_sequence) != len(translated_mut_gene_sequence):\n",
    "    raise ValueError(\"Sequences must have the same length for comparison.\")\n",
    "\n",
    "# Iterate through sequences to find SNPs\n",
    "for i, (ref_aa, mut_aa) in enumerate(zip(translated_ref_sequence, translated_mut_gene_sequence), start=1):\n",
    "    if ref_aa != mut_aa:\n",
    "        print(f\"SNP at amino acid position {i}: {ref_aa} -> {mut_aa}\")\n",
    "\n",
    "# Function to calculate the percentage of sequence identity\n",
    "def sequence_identity(seq1, seq2):\n",
    "    if len(seq1) != len(seq2):\n",
    "        raise ValueError(\"Sequences must have the same length for comparison.\")\n",
    "    identical_positions = sum(c1 == c2 for c1, c2 in zip(seq1, seq2))\n",
    "    identity_percentage = (identical_positions / len(seq1)) * 100\n",
    "    return identity_percentage\n",
    "\n",
    "# Example protein sequences\n",
    "protein_sequence1 = \"MAHAGRTGYDNREIVMKYIHYKLSQRGYEWDAGDVGAAPPGAAPAPGIFSSQPGHTPHPAASRDPVARTSPLQTPAAPGAAAGPALSPVPPVVHLTLRQAGDDFSRRYRRDFAEMSSQLHLTPFTARGRFATVVEELFRDGVNWGRIVAFFEFGGVMCVESVNREMSPLVDNIALWMTEYLNRHLHTWIQDNGGWDAFVELYGPSMR\"\n",
    "protein_sequence2 = \"MAHAWRTGYDNREIVMKYIHYKLSQRGYEWDAGDVGAAPPGAAPAPGIFSSQPGHTPHPAASRDPVARTSPLQTPAAPGAAAGPALSPVPPVVHLTLRQAGDDFSRRYRRDFAEMSSQLHLTPFTARGRFATVVEELFRDGVNWGRIVAFFEFGGVMCVESVNREMSPLVDNIALWMTEYLNRHLHTWIQDNGGWDAFVELYGPSMR\"\n",
    "\n",
    "# Calculate the percentage of sequence identity\n",
    "identity_percentage = sequence_identity(protein_sequence1, protein_sequence2)\n",
    "\n",
    "print(\"Protein Sequence 1:\", protein_sequence1)\n",
    "print(\"Protein Sequence 2:\", protein_sequence2)\n",
    "print(f\"Sequence Identity: {identity_percentage:.2f}%\")"
   ]
  },
  {
   "cell_type": "code",
   "execution_count": null,
   "id": "c8349d9e-c6e4-423b-9d2c-2676abb38f16",
   "metadata": {},
   "outputs": [],
   "source": []
  }
 ],
 "metadata": {
  "kernelspec": {
   "display_name": "Python 3 (ipykernel)",
   "language": "python",
   "name": "python3"
  },
  "language_info": {
   "codemirror_mode": {
    "name": "ipython",
    "version": 3
   },
   "file_extension": ".py",
   "mimetype": "text/x-python",
   "name": "python",
   "nbconvert_exporter": "python",
   "pygments_lexer": "ipython3",
   "version": "3.10.13"
  }
 },
 "nbformat": 4,
 "nbformat_minor": 5
}
